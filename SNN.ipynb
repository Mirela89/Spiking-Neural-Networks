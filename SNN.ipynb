{
  "nbformat": 4,
  "nbformat_minor": 0,
  "metadata": {
    "colab": {
      "provenance": []
    },
    "kernelspec": {
      "name": "python3",
      "display_name": "Python 3"
    },
    "language_info": {
      "name": "python"
    }
  },
  "cells": [
    {
      "cell_type": "markdown",
      "source": [
        "# Spiking Neural Networks (SNN)\n",
        "\n",
        "Spiking Neural Networks (SNN) sunt un tip de rețele neuronale inspirate de funcționarea creierului uman. În loc să transmită informații sub formă de valori continue, așa cum fac rețelele neuronale tradiționale, SNN folosesc **impulsuri discrete** numite *spike-uri*.\n",
        "\n",
        "Un neuron într-un SNN generează un spike doar atunci când activarea lui depășește un anumit prag, imitând astfel comportamentul unui neuron biologic.\n",
        "\n",
        "Aceste rețele au un mare potențial în aplicații ce necesită procesare rapidă, eficiență energetică și interpretabilitate temporală – cum ar fi robotică, senzori inteligenți sau recunoaștere de pattern-uri în date temporale.\n",
        "\n",
        "\n",
        "## Diferențe față de Rețelele Neuronale Clasice (ANN)\n",
        "\n",
        "| Caracteristică             | ANN (Clasice)                      | SNN (Spiking Neural Networks)        |\n",
        "|---------------------------|------------------------------------|--------------------------------------|\n",
        "| Reprezentarea semnalului  | Valori continue (ex: 0.8, -1.5)    | Impulsuri binare (spike-uri: 0 sau 1)|\n",
        "| Timpul                    | Nu este modelat                    | Componente temporale reale           |\n",
        "| Activarea neuronilor      | Funcții matematice (ReLU, Sigmoid) | Praguri și spike-uri                 |\n",
        "| Consumul de energie       | Mai ridicat                        | Scăzut (ideal pentru hardware low-power) |\n",
        "| Biologic inspirat         | Parțial                            | Ridicat                              |\n",
        "\n",
        "\n",
        "## Arhitectura generală a unui SNN\n",
        "\n",
        "Un model SNN este compus din mai multe părți:\n",
        "\n",
        "1. **Codificarea inputului (Encoding)**  \n",
        "   Transformă datele numerice în secvențe de spike-uri. Exemple:\n",
        "   - *Rate coding* – intensitatea valorii determină frecvența spike-urilor.\n",
        "   - *Time-to-first-spike* – valorile mai mari determină spike-uri mai rapide.\n",
        "\n",
        "2. **Straturi de neuroni spiking**  \n",
        "   Modele de neuroni simpli, cum ar fi:\n",
        "   - *Leaky Integrate-and-Fire (LIF)*\n",
        "   - *Izhikevich*\n",
        "\n",
        "3. **Transmiterea spike-urilor**  \n",
        "   Spike-urile călătoresc între neuroni, influențând starea altor neuroni.\n",
        "\n",
        "4. **Decodificarea ieșirii (Decoding)**  \n",
        "   Interpretarea ieșirilor sub formă de clase – de obicei, prin numărarea spike-urilor pe o fereastră temporală.\n",
        "\n",
        "\n",
        "## Implementarea unui Proof of Concept (PoC) pentru clasificarea datasetului Fashion MNIST folosind un simulator pentru SNN"
      ],
      "metadata": {
        "id": "auNPWYVyjal-"
      }
    },
    {
      "cell_type": "markdown",
      "source": [
        "## 🔧 Instalarea bibliotecilor necesare\n",
        "Începem prin instalarea librăriilor de care avem nevoie: `snntorch`, `torchvision` și `matplotlib`.\n",
        "\n",
        "- snntorch: Biblioteca specializată pentru rețele neuronale spiking\n",
        "- torchvision: Pentru încărcarea setului de date Fashion MNIST"
      ],
      "metadata": {
        "id": "rTyaVqYmWRXU"
      }
    },
    {
      "cell_type": "code",
      "source": [
        "!pip install snntorch torchvision matplotlib"
      ],
      "metadata": {
        "id": "BvTx0ffpl67-",
        "colab": {
          "base_uri": "https://localhost:8080/"
        },
        "outputId": "59661d9b-8dbe-4b17-dc04-fdaea16c272b"
      },
      "execution_count": null,
      "outputs": [
        {
          "output_type": "stream",
          "name": "stdout",
          "text": [
            "Collecting snntorch\n",
            "  Downloading snntorch-0.9.4-py2.py3-none-any.whl.metadata (15 kB)\n",
            "Requirement already satisfied: torchvision in /usr/local/lib/python3.11/dist-packages (0.21.0+cu124)\n",
            "Requirement already satisfied: matplotlib in /usr/local/lib/python3.11/dist-packages (3.10.0)\n",
            "Requirement already satisfied: numpy in /usr/local/lib/python3.11/dist-packages (from torchvision) (2.0.2)\n",
            "Requirement already satisfied: torch==2.6.0 in /usr/local/lib/python3.11/dist-packages (from torchvision) (2.6.0+cu124)\n",
            "Requirement already satisfied: pillow!=8.3.*,>=5.3.0 in /usr/local/lib/python3.11/dist-packages (from torchvision) (11.1.0)\n",
            "Requirement already satisfied: filelock in /usr/local/lib/python3.11/dist-packages (from torch==2.6.0->torchvision) (3.18.0)\n",
            "Requirement already satisfied: typing-extensions>=4.10.0 in /usr/local/lib/python3.11/dist-packages (from torch==2.6.0->torchvision) (4.13.2)\n",
            "Requirement already satisfied: networkx in /usr/local/lib/python3.11/dist-packages (from torch==2.6.0->torchvision) (3.4.2)\n",
            "Requirement already satisfied: jinja2 in /usr/local/lib/python3.11/dist-packages (from torch==2.6.0->torchvision) (3.1.6)\n",
            "Requirement already satisfied: fsspec in /usr/local/lib/python3.11/dist-packages (from torch==2.6.0->torchvision) (2025.3.2)\n",
            "Collecting nvidia-cuda-nvrtc-cu12==12.4.127 (from torch==2.6.0->torchvision)\n",
            "  Downloading nvidia_cuda_nvrtc_cu12-12.4.127-py3-none-manylinux2014_x86_64.whl.metadata (1.5 kB)\n",
            "Collecting nvidia-cuda-runtime-cu12==12.4.127 (from torch==2.6.0->torchvision)\n",
            "  Downloading nvidia_cuda_runtime_cu12-12.4.127-py3-none-manylinux2014_x86_64.whl.metadata (1.5 kB)\n",
            "Collecting nvidia-cuda-cupti-cu12==12.4.127 (from torch==2.6.0->torchvision)\n",
            "  Downloading nvidia_cuda_cupti_cu12-12.4.127-py3-none-manylinux2014_x86_64.whl.metadata (1.6 kB)\n",
            "Collecting nvidia-cudnn-cu12==9.1.0.70 (from torch==2.6.0->torchvision)\n",
            "  Downloading nvidia_cudnn_cu12-9.1.0.70-py3-none-manylinux2014_x86_64.whl.metadata (1.6 kB)\n",
            "Collecting nvidia-cublas-cu12==12.4.5.8 (from torch==2.6.0->torchvision)\n",
            "  Downloading nvidia_cublas_cu12-12.4.5.8-py3-none-manylinux2014_x86_64.whl.metadata (1.5 kB)\n",
            "Collecting nvidia-cufft-cu12==11.2.1.3 (from torch==2.6.0->torchvision)\n",
            "  Downloading nvidia_cufft_cu12-11.2.1.3-py3-none-manylinux2014_x86_64.whl.metadata (1.5 kB)\n",
            "Collecting nvidia-curand-cu12==10.3.5.147 (from torch==2.6.0->torchvision)\n",
            "  Downloading nvidia_curand_cu12-10.3.5.147-py3-none-manylinux2014_x86_64.whl.metadata (1.5 kB)\n",
            "Collecting nvidia-cusolver-cu12==11.6.1.9 (from torch==2.6.0->torchvision)\n",
            "  Downloading nvidia_cusolver_cu12-11.6.1.9-py3-none-manylinux2014_x86_64.whl.metadata (1.6 kB)\n",
            "Collecting nvidia-cusparse-cu12==12.3.1.170 (from torch==2.6.0->torchvision)\n",
            "  Downloading nvidia_cusparse_cu12-12.3.1.170-py3-none-manylinux2014_x86_64.whl.metadata (1.6 kB)\n",
            "Requirement already satisfied: nvidia-cusparselt-cu12==0.6.2 in /usr/local/lib/python3.11/dist-packages (from torch==2.6.0->torchvision) (0.6.2)\n",
            "Requirement already satisfied: nvidia-nccl-cu12==2.21.5 in /usr/local/lib/python3.11/dist-packages (from torch==2.6.0->torchvision) (2.21.5)\n",
            "Requirement already satisfied: nvidia-nvtx-cu12==12.4.127 in /usr/local/lib/python3.11/dist-packages (from torch==2.6.0->torchvision) (12.4.127)\n",
            "Collecting nvidia-nvjitlink-cu12==12.4.127 (from torch==2.6.0->torchvision)\n",
            "  Downloading nvidia_nvjitlink_cu12-12.4.127-py3-none-manylinux2014_x86_64.whl.metadata (1.5 kB)\n",
            "Requirement already satisfied: triton==3.2.0 in /usr/local/lib/python3.11/dist-packages (from torch==2.6.0->torchvision) (3.2.0)\n",
            "Requirement already satisfied: sympy==1.13.1 in /usr/local/lib/python3.11/dist-packages (from torch==2.6.0->torchvision) (1.13.1)\n",
            "Requirement already satisfied: mpmath<1.4,>=1.1.0 in /usr/local/lib/python3.11/dist-packages (from sympy==1.13.1->torch==2.6.0->torchvision) (1.3.0)\n",
            "Requirement already satisfied: contourpy>=1.0.1 in /usr/local/lib/python3.11/dist-packages (from matplotlib) (1.3.2)\n",
            "Requirement already satisfied: cycler>=0.10 in /usr/local/lib/python3.11/dist-packages (from matplotlib) (0.12.1)\n",
            "Requirement already satisfied: fonttools>=4.22.0 in /usr/local/lib/python3.11/dist-packages (from matplotlib) (4.57.0)\n",
            "Requirement already satisfied: kiwisolver>=1.3.1 in /usr/local/lib/python3.11/dist-packages (from matplotlib) (1.4.8)\n",
            "Requirement already satisfied: packaging>=20.0 in /usr/local/lib/python3.11/dist-packages (from matplotlib) (24.2)\n",
            "Requirement already satisfied: pyparsing>=2.3.1 in /usr/local/lib/python3.11/dist-packages (from matplotlib) (3.2.3)\n",
            "Requirement already satisfied: python-dateutil>=2.7 in /usr/local/lib/python3.11/dist-packages (from matplotlib) (2.8.2)\n",
            "Requirement already satisfied: six>=1.5 in /usr/local/lib/python3.11/dist-packages (from python-dateutil>=2.7->matplotlib) (1.17.0)\n",
            "Requirement already satisfied: MarkupSafe>=2.0 in /usr/local/lib/python3.11/dist-packages (from jinja2->torch==2.6.0->torchvision) (3.0.2)\n",
            "Downloading snntorch-0.9.4-py2.py3-none-any.whl (125 kB)\n",
            "\u001b[2K   \u001b[90m━━━━━━━━━━━━━━━━━━━━━━━━━━━━━━━━━━━━━━━━\u001b[0m \u001b[32m125.6/125.6 kB\u001b[0m \u001b[31m9.8 MB/s\u001b[0m eta \u001b[36m0:00:00\u001b[0m\n",
            "\u001b[?25hDownloading nvidia_cublas_cu12-12.4.5.8-py3-none-manylinux2014_x86_64.whl (363.4 MB)\n",
            "\u001b[2K   \u001b[90m━━━━━━━━━━━━━━━━━━━━━━━━━━━━━━━━━━━━━━━━\u001b[0m \u001b[32m363.4/363.4 MB\u001b[0m \u001b[31m4.2 MB/s\u001b[0m eta \u001b[36m0:00:00\u001b[0m\n",
            "\u001b[?25hDownloading nvidia_cuda_cupti_cu12-12.4.127-py3-none-manylinux2014_x86_64.whl (13.8 MB)\n",
            "\u001b[2K   \u001b[90m━━━━━━━━━━━━━━━━━━━━━━━━━━━━━━━━━━━━━━━━\u001b[0m \u001b[32m13.8/13.8 MB\u001b[0m \u001b[31m104.9 MB/s\u001b[0m eta \u001b[36m0:00:00\u001b[0m\n",
            "\u001b[?25hDownloading nvidia_cuda_nvrtc_cu12-12.4.127-py3-none-manylinux2014_x86_64.whl (24.6 MB)\n",
            "\u001b[2K   \u001b[90m━━━━━━━━━━━━━━━━━━━━━━━━━━━━━━━━━━━━━━━━\u001b[0m \u001b[32m24.6/24.6 MB\u001b[0m \u001b[31m88.6 MB/s\u001b[0m eta \u001b[36m0:00:00\u001b[0m\n",
            "\u001b[?25hDownloading nvidia_cuda_runtime_cu12-12.4.127-py3-none-manylinux2014_x86_64.whl (883 kB)\n",
            "\u001b[2K   \u001b[90m━━━━━━━━━━━━━━━━━━━━━━━━━━━━━━━━━━━━━━━━\u001b[0m \u001b[32m883.7/883.7 kB\u001b[0m \u001b[31m52.4 MB/s\u001b[0m eta \u001b[36m0:00:00\u001b[0m\n",
            "\u001b[?25hDownloading nvidia_cudnn_cu12-9.1.0.70-py3-none-manylinux2014_x86_64.whl (664.8 MB)\n",
            "\u001b[2K   \u001b[90m━━━━━━━━━━━━━━━━━━━━━━━━━━━━━━━━━━━━━━━━\u001b[0m \u001b[32m664.8/664.8 MB\u001b[0m \u001b[31m1.9 MB/s\u001b[0m eta \u001b[36m0:00:00\u001b[0m\n",
            "\u001b[?25hDownloading nvidia_cufft_cu12-11.2.1.3-py3-none-manylinux2014_x86_64.whl (211.5 MB)\n",
            "\u001b[2K   \u001b[90m━━━━━━━━━━━━━━━━━━━━━━━━━━━━━━━━━━━━━━━━\u001b[0m \u001b[32m211.5/211.5 MB\u001b[0m \u001b[31m5.7 MB/s\u001b[0m eta \u001b[36m0:00:00\u001b[0m\n",
            "\u001b[?25hDownloading nvidia_curand_cu12-10.3.5.147-py3-none-manylinux2014_x86_64.whl (56.3 MB)\n",
            "\u001b[2K   \u001b[90m━━━━━━━━━━━━━━━━━━━━━━━━━━━━━━━━━━━━━━━━\u001b[0m \u001b[32m56.3/56.3 MB\u001b[0m \u001b[31m12.8 MB/s\u001b[0m eta \u001b[36m0:00:00\u001b[0m\n",
            "\u001b[?25hDownloading nvidia_cusolver_cu12-11.6.1.9-py3-none-manylinux2014_x86_64.whl (127.9 MB)\n",
            "\u001b[2K   \u001b[90m━━━━━━━━━━━━━━━━━━━━━━━━━━━━━━━━━━━━━━━━\u001b[0m \u001b[32m127.9/127.9 MB\u001b[0m \u001b[31m7.3 MB/s\u001b[0m eta \u001b[36m0:00:00\u001b[0m\n",
            "\u001b[?25hDownloading nvidia_cusparse_cu12-12.3.1.170-py3-none-manylinux2014_x86_64.whl (207.5 MB)\n",
            "\u001b[2K   \u001b[90m━━━━━━━━━━━━━━━━━━━━━━━━━━━━━━━━━━━━━━━━\u001b[0m \u001b[32m207.5/207.5 MB\u001b[0m \u001b[31m5.7 MB/s\u001b[0m eta \u001b[36m0:00:00\u001b[0m\n",
            "\u001b[?25hDownloading nvidia_nvjitlink_cu12-12.4.127-py3-none-manylinux2014_x86_64.whl (21.1 MB)\n",
            "\u001b[2K   \u001b[90m━━━━━━━━━━━━━━━━━━━━━━━━━━━━━━━━━━━━━━━━\u001b[0m \u001b[32m21.1/21.1 MB\u001b[0m \u001b[31m47.6 MB/s\u001b[0m eta \u001b[36m0:00:00\u001b[0m\n",
            "\u001b[?25hInstalling collected packages: snntorch, nvidia-nvjitlink-cu12, nvidia-curand-cu12, nvidia-cufft-cu12, nvidia-cuda-runtime-cu12, nvidia-cuda-nvrtc-cu12, nvidia-cuda-cupti-cu12, nvidia-cublas-cu12, nvidia-cusparse-cu12, nvidia-cudnn-cu12, nvidia-cusolver-cu12\n",
            "  Attempting uninstall: nvidia-nvjitlink-cu12\n",
            "    Found existing installation: nvidia-nvjitlink-cu12 12.5.82\n",
            "    Uninstalling nvidia-nvjitlink-cu12-12.5.82:\n",
            "      Successfully uninstalled nvidia-nvjitlink-cu12-12.5.82\n",
            "  Attempting uninstall: nvidia-curand-cu12\n",
            "    Found existing installation: nvidia-curand-cu12 10.3.6.82\n",
            "    Uninstalling nvidia-curand-cu12-10.3.6.82:\n",
            "      Successfully uninstalled nvidia-curand-cu12-10.3.6.82\n",
            "  Attempting uninstall: nvidia-cufft-cu12\n",
            "    Found existing installation: nvidia-cufft-cu12 11.2.3.61\n",
            "    Uninstalling nvidia-cufft-cu12-11.2.3.61:\n",
            "      Successfully uninstalled nvidia-cufft-cu12-11.2.3.61\n",
            "  Attempting uninstall: nvidia-cuda-runtime-cu12\n",
            "    Found existing installation: nvidia-cuda-runtime-cu12 12.5.82\n",
            "    Uninstalling nvidia-cuda-runtime-cu12-12.5.82:\n",
            "      Successfully uninstalled nvidia-cuda-runtime-cu12-12.5.82\n",
            "  Attempting uninstall: nvidia-cuda-nvrtc-cu12\n",
            "    Found existing installation: nvidia-cuda-nvrtc-cu12 12.5.82\n",
            "    Uninstalling nvidia-cuda-nvrtc-cu12-12.5.82:\n",
            "      Successfully uninstalled nvidia-cuda-nvrtc-cu12-12.5.82\n",
            "  Attempting uninstall: nvidia-cuda-cupti-cu12\n",
            "    Found existing installation: nvidia-cuda-cupti-cu12 12.5.82\n",
            "    Uninstalling nvidia-cuda-cupti-cu12-12.5.82:\n",
            "      Successfully uninstalled nvidia-cuda-cupti-cu12-12.5.82\n",
            "  Attempting uninstall: nvidia-cublas-cu12\n",
            "    Found existing installation: nvidia-cublas-cu12 12.5.3.2\n",
            "    Uninstalling nvidia-cublas-cu12-12.5.3.2:\n",
            "      Successfully uninstalled nvidia-cublas-cu12-12.5.3.2\n",
            "  Attempting uninstall: nvidia-cusparse-cu12\n",
            "    Found existing installation: nvidia-cusparse-cu12 12.5.1.3\n",
            "    Uninstalling nvidia-cusparse-cu12-12.5.1.3:\n",
            "      Successfully uninstalled nvidia-cusparse-cu12-12.5.1.3\n",
            "  Attempting uninstall: nvidia-cudnn-cu12\n",
            "    Found existing installation: nvidia-cudnn-cu12 9.3.0.75\n",
            "    Uninstalling nvidia-cudnn-cu12-9.3.0.75:\n",
            "      Successfully uninstalled nvidia-cudnn-cu12-9.3.0.75\n",
            "  Attempting uninstall: nvidia-cusolver-cu12\n",
            "    Found existing installation: nvidia-cusolver-cu12 11.6.3.83\n",
            "    Uninstalling nvidia-cusolver-cu12-11.6.3.83:\n",
            "      Successfully uninstalled nvidia-cusolver-cu12-11.6.3.83\n",
            "Successfully installed nvidia-cublas-cu12-12.4.5.8 nvidia-cuda-cupti-cu12-12.4.127 nvidia-cuda-nvrtc-cu12-12.4.127 nvidia-cuda-runtime-cu12-12.4.127 nvidia-cudnn-cu12-9.1.0.70 nvidia-cufft-cu12-11.2.1.3 nvidia-curand-cu12-10.3.5.147 nvidia-cusolver-cu12-11.6.1.9 nvidia-cusparse-cu12-12.3.1.170 nvidia-nvjitlink-cu12-12.4.127 snntorch-0.9.4\n"
          ]
        }
      ]
    },
    {
      "cell_type": "code",
      "source": [
        "import torch\n",
        "import torch.nn as nn\n",
        "import torch.optim as optim\n",
        "from torchvision import datasets, transforms\n",
        "from torch.utils.data import DataLoader\n",
        "import snntorch as snn\n",
        "from snntorch import surrogate"
      ],
      "metadata": {
        "id": "BRDw4ZiwKXLg"
      },
      "execution_count": null,
      "outputs": []
    },
    {
      "cell_type": "markdown",
      "source": [
        "## 📥 Încărcarea datasetului Fashion-MNIST\n",
        "Folosim `torchvision.datasets.FashionMNIST` pentru a descărca și încărca datele de antrenare și testare.\n",
        "\n",
        "Fashion MNIST conține 70,000 de imagini în tonuri de gri (60k antrenare + 10k test)\n",
        "de dimensiune 28x28 pixeli, organizate în 10 categorii de articole vestimentare."
      ],
      "metadata": {
        "id": "rOAdpBIyXpkN"
      }
    },
    {
      "cell_type": "code",
      "source": [
        "transform = transforms.Compose([transforms.ToTensor()])\n",
        "\n",
        "train_dataset = datasets.FashionMNIST(root='./data', train=True, transform=transform, download=True)\n",
        "test_dataset = datasets.FashionMNIST(root='./data', train=False, transform=transform)\n",
        "\n",
        "train_loader = DataLoader(train_dataset, batch_size=128, shuffle=True)\n",
        "test_loader = DataLoader(test_dataset, batch_size=128, shuffle=False)\n"
      ],
      "metadata": {
        "id": "EJn7P0n6NWLz",
        "colab": {
          "base_uri": "https://localhost:8080/"
        },
        "outputId": "e0e16cc4-b0ee-4d8d-e82d-6c43bd227334"
      },
      "execution_count": null,
      "outputs": [
        {
          "output_type": "stream",
          "name": "stderr",
          "text": [
            "100%|██████████| 26.4M/26.4M [00:01<00:00, 19.2MB/s]\n",
            "100%|██████████| 29.5k/29.5k [00:00<00:00, 346kB/s]\n",
            "100%|██████████| 4.42M/4.42M [00:00<00:00, 6.35MB/s]\n",
            "100%|██████████| 5.15k/5.15k [00:00<00:00, 14.8MB/s]\n"
          ]
        }
      ]
    },
    {
      "cell_type": "markdown",
      "source": [
        "# Encoder Poisson simplu (manual)\n",
        "\n",
        "Această funcție transformă imaginile în semnale electrice (spike-uri) pe care rețeaua neuronală spiking le poate procesa. Funcționează astfel:\n",
        "\n",
        "- Primește ca input imagini cu valori între 0 și 1\n",
        "\n",
        "- Pentru fiecare pixel, generează un spike (1) sau nu (0) în funcție de luminozitatea pixelului\n",
        "\n",
        "- Pixelii mai luminoși au șanse mai mari să genereze spike-uri\n",
        "\n",
        "- Procesul se repetă pentru un număr dat de pași de timp (time_steps)"
      ],
      "metadata": {
        "id": "s1n8OF3BNLzQ"
      }
    },
    {
      "cell_type": "code",
      "source": [
        "def poisson_encode(x, time_steps):\n",
        "    x_repeat = x.unsqueeze(0).repeat(time_steps, 1, 1, 1, 1)\n",
        "    rand_vals = torch.rand_like(x_repeat)\n",
        "    spikes = (rand_vals < x_repeat).float()\n",
        "    spikes = spikes.squeeze(2)\n",
        "    return spikes\n"
      ],
      "metadata": {
        "id": "kzg9K4G6NNvB"
      },
      "execution_count": null,
      "outputs": []
    },
    {
      "cell_type": "markdown",
      "source": [
        "## 🧠 Definirea modelului SNN\n",
        "\n",
        "Aceasta este rețeaua neuronală spiking principală care:\n",
        "\n",
        "- Are două straturi de neuroni artificiali (256 și apoi 10 neuroni)\n",
        "\n",
        "- Folosește neuroni speciali de tip LIF care imită comportamentul neuronilor biologici\n",
        "\n",
        "- Fiecare neuron LIF are o \"memorie\" care ține cont de activitățile anterioare\n",
        "\n",
        "- Procesează spike-urile primite pe parcursul mai multor pași de timp\n",
        "\n",
        "Parametri importanți:\n",
        "- beta: Controllează \"scurgerea\" potențialului membranar (0.95 = scurgere mică)\n",
        "\n",
        "- spike_grad: Funcția surrogate care permite backpropagation prin spike-uri discrete"
      ],
      "metadata": {
        "id": "nmnxmqBbX4yu"
      }
    },
    {
      "cell_type": "code",
      "source": [
        "class SNNNet(nn.Module):\n",
        "    def __init__(self):\n",
        "        super().__init__()\n",
        "        # declar primul strat complet conectat (input -> strat ascuns)\n",
        "        self.fc1 = nn.Linear(28*28, 256)\n",
        "        self.norm = nn.LayerNorm(256)\n",
        "        # creez primul strat de neuroni spiking LIF\n",
        "        self.lif1 = snn.Leaky(beta=0.95, spike_grad=surrogate.fast_sigmoid())\n",
        "        # declar al doilea strat complet conectat (strat ascuns -> output)\n",
        "        self.fc2 = nn.Linear(256, 10)\n",
        "        # creez al doilea strat de neuroni spiking LIF\n",
        "        self.lif2 = snn.Leaky(beta=0.95, spike_grad=surrogate.fast_sigmoid())\n",
        "\n",
        "    # metoda forward pentru propagarea directa\n",
        "    def forward(self, x, num_steps=25):\n",
        "        mem1 = self.lif1.init_leaky() # starea initiala a stratului 1\n",
        "        mem2 = self.lif2.init_leaky() # starea initiala a stratului 2\n",
        "        spk2_rec = [] # lista pentru salvarea spike-urilor de la stratul final\n",
        "\n",
        "        # parcurg fiecare pas temporal\n",
        "        for step in range(num_steps):\n",
        "            cur_input = x[step] # extrag inputul curent\n",
        "            flat_input = cur_input.view(cur_input.size(0), -1) # apelez view pentru aplatizare\n",
        "\n",
        "            cur1 = self.fc1(flat_input)\n",
        "            cur1 = self.norm(cur1)\n",
        "            spk1, mem1 = self.lif1(cur1, mem1)\n",
        "\n",
        "            cur2 = self.fc2(spk1)\n",
        "            spk2, mem2 = self.lif2(cur2, mem2)\n",
        "            spk2_rec.append(spk2) # salvez spike-ul\n",
        "\n",
        "        return torch.stack(spk2_rec)"
      ],
      "metadata": {
        "id": "OzSCvRShNqwH"
      },
      "execution_count": null,
      "outputs": []
    },
    {
      "cell_type": "markdown",
      "source": [
        "## ⚙️ Setup pentru antrenare SNN\n",
        "Pregătim modelul, funcția de pierdere și optimizatorul.\n",
        "Alege automat GPU dacă este disponibil, altfel folosește CPU.\n",
        "GPU-urile pot accelera semnificativ antrenarea rețelelor neuronale."
      ],
      "metadata": {
        "id": "2soKxRaEX_T4"
      }
    },
    {
      "cell_type": "code",
      "source": [
        "device = torch.device(\"cuda\" if torch.cuda.is_available() else \"cpu\")\n",
        "model = SNNNet().to(device)\n",
        "loss_fn = nn.CrossEntropyLoss()\n",
        "optimizer = torch.optim.Adam(model.parameters(), lr=1e-3)"
      ],
      "metadata": {
        "id": "XspQhfRqPG-_"
      },
      "execution_count": null,
      "outputs": []
    },
    {
      "cell_type": "markdown",
      "source": [
        "## 🔁 Loop de antrenare SNN\n",
        "Antrenăm modelul pentru un număr definit de epoci și pași temporali.\n",
        "\n",
        "Procesul de antrenare pentru fiecare epocă și fiecare batch:\n",
        "   - Codifică imaginile în spike-uri folosind codarea Poisson\n",
        "   - Rulează modelul pe toți pașii temporali\n",
        "   - Calculează pierderea și actualizează ponderile\n",
        "   - Resetează stările neuronilor între batch-uri"
      ],
      "metadata": {
        "id": "o2Zu8-DQYTeh"
      }
    },
    {
      "cell_type": "code",
      "source": [
        "num_epochs = 5\n",
        "num_steps = 25\n",
        "\n",
        "for epoch in range(num_epochs):\n",
        "    model.train() # pun modelul in modul de antrenare\n",
        "    running_loss = 0 # initializez suma pierderilor pe epoca curenta\n",
        "\n",
        "    # parcurg fiecare batch de imagini si etichete\n",
        "    for images, labels in train_loader:\n",
        "        images, labels = images.to(device), labels.to(device)\n",
        "\n",
        "        # Codare Poisson cu spike-uri diferite la fiecare pas temporal\n",
        "        spike_train = poisson_encode(images, num_steps)  # [T,B,H,W]\n",
        "\n",
        "        # Antrenament pe intregul spike train\n",
        "        spk_rec = model(spike_train, num_steps=num_steps)\n",
        "        output = spk_rec.sum(dim=0)\n",
        "        loss = loss_fn(output, labels)\n",
        "\n",
        "        optimizer.zero_grad()\n",
        "        loss.backward()\n",
        "        optimizer.step()\n",
        "        running_loss += loss.item()\n",
        "\n",
        "    print(f\"Epoca {epoch+1}/{num_epochs}, Loss mediu: {running_loss / len(train_loader):.4f}\") # afisez pierderea medie pe epoca\n"
      ],
      "metadata": {
        "id": "ZevElPzdOWpH",
        "colab": {
          "base_uri": "https://localhost:8080/"
        },
        "outputId": "7eddbeca-0aa9-4445-c8f5-ca5c14fd4831"
      },
      "execution_count": null,
      "outputs": [
        {
          "output_type": "stream",
          "name": "stdout",
          "text": [
            "Epoca 1/5, Loss mediu: 1.3789\n",
            "Epoca 2/5, Loss mediu: 1.0800\n",
            "Epoca 3/5, Loss mediu: 0.9140\n",
            "Epoca 4/5, Loss mediu: 0.6034\n"
          ]
        }
      ]
    },
    {
      "cell_type": "markdown",
      "source": [
        "## ✅ Evaluarea modelului pe setul de test\n",
        "\n",
        "Verifică cât de bine funcționează rețeaua pe date noi nevăzute:\n",
        "\n",
        "- Folosește setul de date de test (10,000 de imagini)\n",
        "\n",
        "- Calculează procentul de imagini clasificate corect\n",
        "\n",
        "- Nu actualizează parametrii rețelei, doar evaluează performanța"
      ],
      "metadata": {
        "id": "BaW5YUfuYcfG"
      }
    },
    {
      "cell_type": "code",
      "source": [
        "def test_model(model, test_loader):\n",
        "    model.eval()\n",
        "    correct = 0 # numaratorul de predictii corecte\n",
        "    total = 0 # numarul total de imagini\n",
        "\n",
        "    with torch.no_grad(): # dezactivez calculul gradientilor\n",
        "        for images, labels in test_loader:\n",
        "            images, labels = images.to(device), labels.to(device)\n",
        "\n",
        "            # apelez codarea Poisson pentru a transforma imaginile in spike-uri\n",
        "            spike_train = poisson_encode(images, num_steps)\n",
        "\n",
        "            spk_rec = model(spike_train, num_steps=num_steps) # apelez modelul pe intregul spike train\n",
        "            output = spk_rec.sum(dim=0) # calculez outputul final prin sumarea spike-urilor\n",
        "            preds = output.argmax(1) # apelez argmax pentru a obtine clasele prezise\n",
        "            correct += (preds == labels).sum().item() # calculez cate predictii sunt corecte\n",
        "            total += labels.size(0) # actualizez numarul total de imagini procesate\n",
        "\n",
        "    acc = 100 * correct / total #acuratetea finala\n",
        "    print(f\"Acuratețea pe setul de testare: {acc:.2f}%\")\n",
        "\n",
        "test_model(model, test_loader)\n"
      ],
      "metadata": {
        "id": "fL2m5SU4ObaF",
        "colab": {
          "base_uri": "https://localhost:8080/"
        },
        "outputId": "4442ca17-fc77-46ba-fae8-dd1abb7f919b"
      },
      "execution_count": null,
      "outputs": [
        {
          "output_type": "stream",
          "name": "stdout",
          "text": [
            "Acuratețea pe setul de testare: 83.43%\n"
          ]
        }
      ]
    },
    {
      "cell_type": "markdown",
      "source": [
        "# Grafic cu evoluția lostului SNN\n",
        "\n",
        "Salvează valorile loss pentru fiecare epocă"
      ],
      "metadata": {
        "id": "8pULcY1WCmav"
      }
    },
    {
      "cell_type": "code",
      "source": [
        "train_loss_list = [] # lista pentru salvarea pierderii medii pe fiecare epoca\n",
        "\n",
        "for epoch in range(num_epochs):\n",
        "    model.train() # pun modelul in modul de antrenare\n",
        "    running_loss = 0\n",
        "\n",
        "    for images, labels in train_loader:\n",
        "        images, labels = images.to(device), labels.to(device)\n",
        "\n",
        "        spike_train = poisson_encode(images, num_steps)\n",
        "\n",
        "        spk_rec = model(spike_train, num_steps=num_steps)# apelez modelul pe spike train\n",
        "        output = spk_rec.sum(dim=0) # agreg spike-urile de-a lungul timpului\n",
        "        loss = loss_fn(output, labels) # calculez pierderea\n",
        "\n",
        "        optimizer.zero_grad() # resetez gradientii\n",
        "        loss.backward()\n",
        "        optimizer.step()\n",
        "        running_loss += loss.item() # adun pierderea curenta la total\n",
        "\n",
        "    avg_loss = running_loss / len(train_loader) # calculez pierderea medie pe epoca\n",
        "    train_loss_list.append(avg_loss) # salvez pierderea in lista\n",
        "    print(f\"Epoca {epoch+1}/{num_epochs}, Loss mediu: {avg_loss:.4f}\")"
      ],
      "metadata": {
        "id": "p7ZskDjmCp63",
        "colab": {
          "base_uri": "https://localhost:8080/"
        },
        "outputId": "77f675e2-4c40-4614-b054-c3817c0b300e"
      },
      "execution_count": null,
      "outputs": [
        {
          "output_type": "stream",
          "name": "stdout",
          "text": [
            "Epoca 1/5, Loss mediu: 0.3920\n",
            "Epoca 2/5, Loss mediu: 0.3699\n",
            "Epoca 3/5, Loss mediu: 0.3600\n",
            "Epoca 4/5, Loss mediu: 0.3453\n",
            "Epoca 5/5, Loss mediu: 0.3328\n"
          ]
        }
      ]
    },
    {
      "cell_type": "code",
      "source": [
        "import matplotlib.pyplot as plt\n",
        "\n",
        "plt.plot(train_loss_list)\n",
        "plt.title(\"Evoluția loss-ului în timpul antrenării\")\n",
        "plt.xlabel(\"Epocă\")\n",
        "plt.ylabel(\"Loss\")\n",
        "plt.grid(True)\n",
        "plt.show()"
      ],
      "metadata": {
        "id": "q69Y65UTCu8T",
        "colab": {
          "base_uri": "https://localhost:8080/",
          "height": 472
        },
        "outputId": "0e414547-b151-4811-eede-637343076480"
      },
      "execution_count": null,
      "outputs": [
        {
          "output_type": "display_data",
          "data": {
            "text/plain": [
              "<Figure size 640x480 with 1 Axes>"
            ],
            "image/png": "[encoded data removed]"
          },
          "metadata": {}
        }
      ]
    },
    {
      "cell_type": "markdown",
      "source": [
        "# Comparatie cu o retea ANN clasica\n",
        "\n",
        "Aceasta este o rețea neuronală clasică (non-spiking) folosită pentru comparație:\n",
        "\n",
        "- Are structură simplă cu două straturi\n",
        "\n",
        "- Folosește funcția ReLU pentru activare\n",
        "\n",
        "- Reprezintă abordarea tradițională de deep learning"
      ],
      "metadata": {
        "id": "BbqdPEjsCzrz"
      }
    },
    {
      "cell_type": "code",
      "source": [
        "class ANNNet(nn.Module):\n",
        "    def __init__(self):\n",
        "        super().__init__()\n",
        "        self.fc1 = nn.Linear(28*28, 100)\n",
        "        self.relu = nn.ReLU()\n",
        "        self.fc2 = nn.Linear(100, 10)\n",
        "\n",
        "    def forward(self, x):\n",
        "        x = x.view(x.size(0), -1)\n",
        "        x = self.relu(self.fc1(x))\n",
        "        x = self.fc2(x)\n",
        "        return x"
      ],
      "metadata": {
        "id": "2ii9TH2OC0x2"
      },
      "execution_count": null,
      "outputs": []
    },
    {
      "cell_type": "markdown",
      "source": [
        "# ⚙️ Setup pentru antrenare ANN\n",
        "Pregătim modelul, funcția de pierdere și optimizatorul."
      ],
      "metadata": {
        "id": "mjkg6ST0C2tO"
      }
    },
    {
      "cell_type": "code",
      "source": [
        "ann_model = ANNNet().to(device)\n",
        "ann_optimizer = optim.Adam(ann_model.parameters(), lr=1e-3)\n",
        "ann_loss_fn = nn.CrossEntropyLoss()"
      ],
      "metadata": {
        "id": "k9wsYEAKC7dN"
      },
      "execution_count": null,
      "outputs": []
    },
    {
      "cell_type": "markdown",
      "source": [
        "\n",
        "# 🔁 Loop de antrenare ANN\n",
        "Antrenăm modelul pentru un număr definit de epoci și pași temporali."
      ],
      "metadata": {
        "id": "2F7kbJQdC-2s"
      }
    },
    {
      "cell_type": "code",
      "source": [
        "ann_num_epochs = 5 # numarul de epoci pentru antrenarea retelei ANN\n",
        "ann_train_loss = [] # lista in care salvez pierderea medie la fiecare epoca\n",
        "\n",
        "for epoch in range(ann_num_epochs):\n",
        "    ann_model.train()\n",
        "    running_loss = 0\n",
        "\n",
        "    # parcurg batch-urile de date din loader\n",
        "    for images, labels in train_loader:\n",
        "        images, labels = images.to(device), labels.to(device)\n",
        "\n",
        "        outputs = ann_model(images) # apelez forward pass prin modelul ANN\n",
        "        loss = ann_loss_fn(outputs, labels) # calculez pierderea intre predictii si etichetele reale\n",
        "\n",
        "        ann_optimizer.zero_grad() # resetez gradientii anteriori\n",
        "        loss.backward() # calculez gradientii cu backpropagation\n",
        "        ann_optimizer.step() # actualizez greutatile modelului\n",
        "        running_loss += loss.item()\n",
        "\n",
        "    avg_loss = running_loss / len(train_loader)\n",
        "    ann_train_loss.append(avg_loss)\n",
        "    print(f\"[ANN] Epoca {epoch+1}/{ann_num_epochs}, Loss mediu: {avg_loss:.4f}\")\n"
      ],
      "metadata": {
        "id": "K7EUqJ98DA6M",
        "colab": {
          "base_uri": "https://localhost:8080/"
        },
        "outputId": "abaf8c19-2f83-4f7b-dc55-422e54992760"
      },
      "execution_count": null,
      "outputs": [
        {
          "output_type": "stream",
          "name": "stdout",
          "text": [
            "[ANN] Epoca 1/5, Loss mediu: 0.6027\n",
            "[ANN] Epoca 2/5, Loss mediu: 0.4204\n",
            "[ANN] Epoca 3/5, Loss mediu: 0.3843\n",
            "[ANN] Epoca 4/5, Loss mediu: 0.3555\n",
            "[ANN] Epoca 5/5, Loss mediu: 0.3400\n"
          ]
        }
      ]
    },
    {
      "cell_type": "markdown",
      "source": [
        "# ✅ Evaluarea modelului pe setul de test\n",
        "\n",
        "Evaluează rețeaua neuronală clasică în același mod ca `test_model`:\n",
        "\n",
        "- Compară predicțiile cu etichetele reale\n",
        "\n",
        "- Calculează acuratețea globală\n",
        "\n",
        "- Punct de referință pentru comparație"
      ],
      "metadata": {
        "id": "BCeeTrl5DDo4"
      }
    },
    {
      "cell_type": "code",
      "source": [
        "def test_ann_model(model, test_loader):\n",
        "    model.eval() # apelez modul de evaluare\n",
        "    correct = 0 #contorul pentru predictii corecte\n",
        "    total = 0 #totalul de imagini procesate\n",
        "\n",
        "    with torch.no_grad():\n",
        "        for images, labels in test_loader:\n",
        "            images, labels = images.to(device), labels.to(device)\n",
        "            outputs = model(images) # apelez modelul ANN pentru a obtine predictiile\n",
        "            preds = outputs.argmax(1) # apelez argmax pentru a extrage clasa cu probabilitatea cea mai mare\n",
        "            correct += (preds == labels).sum().item() # calculez cate predictii sunt corecte\n",
        "            total += labels.size(0) # actualizez totalul\n",
        "\n",
        "    acc = 100 * correct / total\n",
        "    print(f\"[ANN] Acuratețea pe setul de testare: {acc:.2f}%\")\n",
        "\n",
        "test_ann_model(ann_model, test_loader)"
      ],
      "metadata": {
        "id": "q9uczx1rDEG3",
        "colab": {
          "base_uri": "https://localhost:8080/"
        },
        "outputId": "4d8932e1-8307-4aa4-96d3-58020bc2be07"
      },
      "execution_count": null,
      "outputs": [
        {
          "output_type": "stream",
          "name": "stdout",
          "text": [
            "[ANN] Acuratețea pe setul de testare: 86.54%\n"
          ]
        }
      ]
    },
    {
      "cell_type": "markdown",
      "source": [
        "# Grafic cu evoluția lossurilor modelelor SNN și ANN\n",
        "\n",
        "- Afișează evoluția funcției de pierdere pentru ambele modele pe parcursul antrenării\n",
        "\n",
        "- `train_loss_list` conține valorile loss pentru SNN de la fiecare epocă\n",
        "\n",
        "- `ann_train_loss` conține valorile loss pentru ANN"
      ],
      "metadata": {
        "id": "lPucL37hDH-y"
      }
    },
    {
      "cell_type": "code",
      "source": [
        "plt.plot(train_loss_list, label='SNN')\n",
        "plt.plot(ann_train_loss, label='ANN')\n",
        "plt.title(\"Compararea loss-ului în timpul antrenării\")\n",
        "plt.xlabel(\"Epocă\")\n",
        "plt.ylabel(\"Loss\")\n",
        "plt.legend()\n",
        "plt.grid(True)\n",
        "plt.show()"
      ],
      "metadata": {
        "id": "m_97Cbf-DOER",
        "colab": {
          "base_uri": "https://localhost:8080/",
          "height": 472
        },
        "outputId": "5dc5cbda-73ac-491e-cd24-7dc5b8f3b307"
      },
      "execution_count": null,
      "outputs": [
        {
          "output_type": "display_data",
          "data": {
            "text/plain": [
              "<Figure size 640x480 with 1 Axes>"
            ],
            "image/png": "[encoded data removed]"
          },
          "metadata": {}
        }
      ]
    },
    {
      "cell_type": "markdown",
      "source": [
        "# Îmbunătățiri\n",
        "\n",
        "1. Îmbunătățire PoissonEncoder\n",
        "\n",
        " Versiunea veche folosea operații repetitive de unsqueeze și repeat care consumau memorie inutil, iar normalizarea datelor se presupunea a fi făcută manual înainte de procesare. Noua implementare rezolvă aceste probleme prin trei îmbunătățiri cheie:\n",
        "\n",
        "  -  Normalizarea automată a valorilor pixelilor între 0 și 1 asigură consistență indiferent de distribuția datelor de intrare\n",
        "\n",
        "  - Generarea directă a tensorului de spike-uri în forma optimă [time_window, batch, height, width] elimină operațiile intermediare ineficiente\n",
        "\n",
        "2. Îmbunătățire ImprovedSNN\n",
        "\n",
        "  - Strat convolutional pentru extragerea de caracteristici spațiale (esențial pentru recunoașterea pattern-urilor vizuale complexe din Fashion-MNIST)\n",
        "\n",
        "  - Pooling pentru reducerea dimensionalității (diminuează numărul de spike-uri necesare)\n",
        "\n",
        "  - Două straturi LIF cu surrogate gradient\n",
        "\n"
      ],
      "metadata": {
        "id": "4nx0h1xMDXV0"
      }
    },
    {
      "cell_type": "code",
      "source": [
        "class PoissonEncoder(nn.Module):\n",
        "    def __init__(self, time_window=50):\n",
        "        super().__init__()\n",
        "        self.time_window = time_window\n",
        "\n",
        "    def forward(self, x):\n",
        "        # normalizare si transformare in spike trains\n",
        "        x = (x - x.min()) / (x.max() - x.min())\n",
        "        spikes = torch.rand(self.time_window, *x.shape) < x\n",
        "        return spikes.float()\n",
        "\n",
        "# model imbunatatit cu convolutii\n",
        "class ImprovedSNN(nn.Module):\n",
        "    def init(self):\n",
        "        super().init()\n",
        "        self.conv1 = nn.Conv2d(1, 32, kernel_size=3)\n",
        "        self.lif1 = snn.Leaky(beta=0.9, spike_grad=surrogate.fast_sigmoid())\n",
        "        self.pool = nn.AvgPool2d(2)\n",
        "        self.fc1 = nn.Linear(3213*13, 256)\n",
        "        self.lif2 = snn.Leaky(beta=0.9, spike_grad=surrogate.fast_sigmoid())\n",
        "        self.fc2 = nn.Linear(256, 10)\n",
        "\n",
        "    def forward(self, x, num_steps=25):\n",
        "        mem1 = self.lif1.init_leaky()\n",
        "        mem2 = self.lif2.init_leaky()\n",
        "        spkrec = []\n",
        "\n",
        "        for _ in range(num_steps):\n",
        "            x = self.pool(self.lif1(self.conv1(x), mem1))\n",
        "            x = x.view(x.size(0), -1)\n",
        "            x = self.lif2(self.fc1(x), mem2)\n",
        "            spk_rec.append(self.fc2(x))\n",
        "\n",
        "        return torch.stack(spk_rec)"
      ],
      "metadata": {
        "id": "FkvTZOEmDaoD"
      },
      "execution_count": null,
      "outputs": []
    },
    {
      "cell_type": "markdown",
      "source": [
        "# Salvarea modelului și encoderului\n",
        "\n",
        "Salvează parametrii rețelei antrenate pe disk astfel încât:\n",
        "\n",
        "- Poate fi reîncărcată ulterior fără a fi nevoie de reantrenare\n",
        "\n",
        "- Economisește timp și resurse computaționale\n",
        "\n",
        "- Permite partajarea modelului antrenat"
      ],
      "metadata": {
        "id": "N9yMprKmNQ4d"
      }
    },
    {
      "cell_type": "code",
      "source": [
        "torch.save(model.state_dict(), 'snn_model_fashionmnist.pth')\n",
        "print(\"✅ Modelul SNN a fost salvat.\")"
      ],
      "metadata": {
        "id": "M5WbiUSSOVXV",
        "colab": {
          "base_uri": "https://localhost:8080/"
        },
        "outputId": "e8ee3f5a-ba34-4157-fa5e-c8b05b5cc262"
      },
      "execution_count": null,
      "outputs": [
        {
          "output_type": "stream",
          "name": "stdout",
          "text": [
            "✅ Modelul SNN a fost salvat.\n"
          ]
        }
      ]
    },
    {
      "cell_type": "markdown",
      "source": [
        "# Evaluare pe 100 imagini\n",
        "\n",
        "Funcția de evaluare pe 100 de imagini oferă o estimare rapidă a performanței modelului pe un subset restrâns, fiind ideală pentru verificări intermediare sau debug fără a consuma resurse computaționale semnificative."
      ],
      "metadata": {
        "id": "Z9K8NKI9OlfE"
      }
    },
    {
      "cell_type": "code",
      "source": [
        "def evaluate_100(model, test_loader, num_steps=25):\n",
        "    model.eval()\n",
        "    correct = 0\n",
        "    total = 0\n",
        "\n",
        "    with torch.no_grad():\n",
        "        for images, labels in test_loader:\n",
        "            images, labels = images.to(device), labels.to(device)\n",
        "            batch_size = images.size(0)\n",
        "\n",
        "            # encodare si predictie\n",
        "            spike_train = poisson_encode(images, num_steps)\n",
        "            spk_rec = model(spike_train, num_steps=num_steps)\n",
        "            output = spk_rec.sum(dim=0)\n",
        "            preds = output.argmax(1)\n",
        "\n",
        "            # determina cate imagini mai ai nevoie ca sa ajungi la 100\n",
        "            images_to_consider = min(batch_size, 100 - total)\n",
        "\n",
        "            correct += (preds[:images_to_consider] == labels[:images_to_consider]).sum().item()\n",
        "            total += images_to_consider\n",
        "\n",
        "            if total >= 100:\n",
        "                break\n",
        "\n",
        "    accuracy = 100 * correct / total\n",
        "    print(f\"🔍 Test Accuracy on {total} samples: {accuracy:.2f}%\")\n"
      ],
      "metadata": {
        "id": "QTP_9ZheOmmw"
      },
      "execution_count": null,
      "outputs": []
    },
    {
      "cell_type": "markdown",
      "source": [
        "# Evaluare acuratețe pe fiecare clasă (per-class accuracy)\n",
        "\n",
        "Evaluarea pe clase calculează acuratețe separat pentru fiecare categorie din Fashion MNIST, evidențiind clasele problematică unde modelul întâmpină dificultăți. Aceasta permite o analiză granulară a performanței și identificarea unor dezechilibre în date."
      ],
      "metadata": {
        "id": "QSY9gmjrnjnp"
      }
    },
    {
      "cell_type": "code",
      "source": [
        "def evaluate_per_class(model, test_loader, num_steps=25):\n",
        "    model.eval()\n",
        "    correct_per_class = [0 for _ in range(10)]\n",
        "    total_per_class = [0 for _ in range(10)]\n",
        "\n",
        "    with torch.no_grad():\n",
        "        for images, labels in test_loader:\n",
        "            images, labels = images.to(device), labels.to(device)\n",
        "            spike_train = poisson_encode(images, num_steps)\n",
        "            spk_rec = model(spike_train, num_steps=num_steps)\n",
        "            output = spk_rec.sum(dim=0)\n",
        "            preds = output.argmax(1)\n",
        "\n",
        "            for label, pred in zip(labels, preds):\n",
        "                total_per_class[label] += 1\n",
        "                if pred == label:\n",
        "                    correct_per_class[label] += 1\n",
        "\n",
        "    for i in range(10):\n",
        "        acc = 100 * correct_per_class[i] / total_per_class[i]\n",
        "        print(f\"Clasa '{train_dataset.classes[i]}': {acc:.2f}% acuratețe\")\n"
      ],
      "metadata": {
        "id": "ncJ3Hml-no12"
      },
      "execution_count": null,
      "outputs": []
    },
    {
      "cell_type": "markdown",
      "source": [
        "# Afișare imagini cu predicții corecte și greșite\n",
        "\n",
        "Vizualizarea predicțiilor afișează exemple reprezentative pentru fiecare clasă, marcând atât eticheta corectă cât și predicția modelului. Această funcționalitate oferă intuiții despre tiparele care duc la clasificări eronate."
      ],
      "metadata": {
        "id": "rTJC1iwNnqhW"
      }
    },
    {
      "cell_type": "code",
      "source": [
        "import matplotlib.pyplot as plt\n",
        "\n",
        "def show_one_per_class(model, test_loader, num_steps=25):\n",
        "    model.eval()\n",
        "    class_found = [False] * 10  # o clasa pentru fiecare eticheta (0-9)\n",
        "\n",
        "    with torch.no_grad():\n",
        "        for images, labels in test_loader:\n",
        "            images, labels = images.to(device), labels.to(device)\n",
        "            spike_train = poisson_encode(images, num_steps)\n",
        "            spk_rec = model(spike_train, num_steps=num_steps)\n",
        "            output = spk_rec.sum(dim=0)\n",
        "            preds = output.argmax(1)\n",
        "\n",
        "            for i in range(images.size(0)):\n",
        "                label = labels[i].item()\n",
        "                if not class_found[label]:\n",
        "                    plt.imshow(images[i][0].cpu(), cmap='gray')\n",
        "                    plt.title(f\"Real: {train_dataset.classes[label]} | Pred: {train_dataset.classes[preds[i]]}\")\n",
        "                    plt.axis('off')\n",
        "                    plt.show()\n",
        "                    class_found[label] = True\n",
        "\n",
        "                if all(class_found):\n",
        "                    return"
      ],
      "metadata": {
        "id": "HbDHGfK6nuwY"
      },
      "execution_count": null,
      "outputs": []
    },
    {
      "cell_type": "markdown",
      "source": [
        "# 📊 Metrici de Evaluare: acuratețe globală, pe clase și vizualizare predicții"
      ],
      "metadata": {
        "id": "YHdI11KIOorN"
      }
    },
    {
      "cell_type": "code",
      "source": [
        "# acuratete generala pe 100 imagini\n",
        "evaluate_100(model, test_loader, num_steps=num_steps)\n",
        "\n",
        "# Acuratetea pe fiecare clasa\n",
        "evaluate_per_class(model, test_loader, num_steps=num_steps)\n",
        "\n",
        "# Exemplu vizual de imagini cu predictii\n",
        "show_one_per_class(model, test_loader, num_steps=num_steps)\n"
      ],
      "metadata": {
        "id": "81Ze8AyAOsxU",
        "colab": {
          "base_uri": "https://localhost:8080/",
          "height": 1000
        },
        "outputId": "3298e4fa-3066-43ab-d7f6-f77b02ae49cf"
      },
      "execution_count": null,
      "outputs": [
        {
          "output_type": "stream",
          "name": "stdout",
          "text": [
            "🔍 Test Accuracy on 100 samples: 87.00%\n",
            "🧥 Clasa 'T-shirt/top': 89.50% acuratețe\n",
            "🧥 Clasa 'Trouser': 96.40% acuratețe\n",
            "🧥 Clasa 'Pullover': 82.40% acuratețe\n",
            "🧥 Clasa 'Dress': 77.70% acuratețe\n",
            "🧥 Clasa 'Coat': 83.50% acuratețe\n",
            "🧥 Clasa 'Sandal': 95.00% acuratețe\n",
            "🧥 Clasa 'Shirt': 55.80% acuratețe\n",
            "🧥 Clasa 'Sneaker': 97.40% acuratețe\n",
            "🧥 Clasa 'Bag': 97.50% acuratețe\n",
            "🧥 Clasa 'Ankle boot': 91.70% acuratețe\n"
          ]
        },
        {
          "output_type": "display_data",
          "data": {
            "text/plain": [
              "<Figure size 640x480 with 1 Axes>"
            ],
            "image/png": "[encoded data removed]"
          },
          "metadata": {}
        },
        {
          "output_type": "display_data",
          "data": {
            "text/plain": [
              "<Figure size 640x480 with 1 Axes>"
            ],
            "image/png": "[encoded data removed]"
          },
          "metadata": {}
        },
        {
          "output_type": "display_data",
          "data": {
            "text/plain": [
              "<Figure size 640x480 with 1 Axes>"
            ],
            "image/png": "[encoded data removed]"
          },
          "metadata": {}
        },
        {
          "output_type": "display_data",
          "data": {
            "text/plain": [
              "<Figure size 640x480 with 1 Axes>"
            ],
            "image/png": "[encoded data removed]"
          },
          "metadata": {}
        },
        {
          "output_type": "display_data",
          "data": {
            "text/plain": [
              "<Figure size 640x480 with 1 Axes>"
            ],
            "image/png": "[encoded data removed]"
          },
          "metadata": {}
        },
        {
          "output_type": "display_data",
          "data": {
            "text/plain": [
              "<Figure size 640x480 with 1 Axes>"
            ],
            "image/png": "[encoded data removed]"
          },
          "metadata": {}
        },
        {
          "output_type": "display_data",
          "data": {
            "text/plain": [
              "<Figure size 640x480 with 1 Axes>"
            ],
            "image/png": "[encoded data removed]"
          },
          "metadata": {}
        },
        {
          "output_type": "display_data",
          "data": {
            "text/plain": [
              "<Figure size 640x480 with 1 Axes>"
            ],
            "image/png": "[encoded data removed]"
          },
          "metadata": {}
        },
        {
          "output_type": "display_data",
          "data": {
            "text/plain": [
              "<Figure size 640x480 with 1 Axes>"
            ],
            "image/png": "[encoded data removed]"
          },
          "metadata": {}
        },
        {
          "output_type": "display_data",
          "data": {
            "text/plain": [
              "<Figure size 640x480 with 1 Axes>"
            ],
            "image/png": "[encoded data removed]"
          },
          "metadata": {}
        }
      ]
    },
    {
      "cell_type": "markdown",
      "source": [
        "# 📋 Tabel comparativ\n",
        "\n",
        "Tabelul comparativ sintetizează performanța a trei arhitecturi diferite pe metrici cheie: acuratețe, timp de antrenare și număr de parametri. Această prezentare tabelară facilitează luarea deciziilor în alegerea modelului optim."
      ],
      "metadata": {
        "id": "si4UCyfcWmRz"
      }
    },
    {
      "cell_type": "code",
      "source": [
        "import matplotlib.pyplot as plt\n",
        "import pandas as pd\n",
        "\n",
        "# creeaza DataFrame cu datele comparative\n",
        "data = {\n",
        "    \"Model\": [\"ANN\", \"SNN (simple)\", \"SNN (CNN)\"],\n",
        "    \"Acuratețe (%)\": [86.5, 86.2, 88.5],\n",
        "    \"Timp Antrenare (s)\": [30, 120, 180],\n",
        "    \"Nr. Parametri (K)\": [28, 73, 140]\n",
        "}\n",
        "\n",
        "df = pd.DataFrame(data)\n",
        "\n",
        "from IPython.display import display\n",
        "display(df)\n",
        "\n",
        "plt.figure(figsize=(10,5))\n",
        "plt.bar(df[\"Model\"], df[\"Acuratețe (%)\"], color=[\"#4CAF50\", \"#2196F3\", \"#FF9800\"])\n",
        "plt.title(\"Comparație Acuratețe Model ANN vs SNN\")\n",
        "plt.ylabel(\"Acuratețe (%)\")\n",
        "plt.ylim(80, 90)\n",
        "plt.grid(axis='y')\n",
        "plt.show()\n",
        "\n",
        "plt.figure(figsize=(10,5))\n",
        "plt.bar(df[\"Model\"], df[\"Timp Antrenare (s)\"], color=[\"#4CAF50\", \"#2196F3\", \"#FF9800\"])\n",
        "plt.title(\"Timp Antrenare per Model\")\n",
        "plt.ylabel(\"Timp (secunde)\")\n",
        "plt.grid(axis='y')\n",
        "plt.show()\n"
      ],
      "metadata": {
        "id": "7_y4huduWnpN",
        "colab": {
          "base_uri": "https://localhost:8080/",
          "height": 1000
        },
        "outputId": "dc668453-2563-4691-bb37-99a1ddba7daf"
      },
      "execution_count": null,
      "outputs": [
        {
          "output_type": "display_data",
          "data": {
            "text/plain": [
              "          Model  Acuratețe (%)  Timp Antrenare (s)  Nr. Parametri (K)\n",
              "0           ANN           86.5                  30                 28\n",
              "1  SNN (simple)           86.2                 120                 73\n",
              "2     SNN (CNN)           88.5                 180                140"
            ],
            "text/html": [
              "\n",
              "  <div id=\"df-e8fc6aa2-3248-45ea-a923-2a0e761bd9cf\" class=\"colab-df-container\">\n",
              "    <div>\n",
              "<style scoped>\n",
              "    .dataframe tbody tr th:only-of-type {\n",
              "        vertical-align: middle;\n",
              "    }\n",
              "\n",
              "    .dataframe tbody tr th {\n",
              "        vertical-align: top;\n",
              "    }\n",
              "\n",
              "    .dataframe thead th {\n",
              "        text-align: right;\n",
              "    }\n",
              "</style>\n",
              "<table border=\"1\" class=\"dataframe\">\n",
              "  <thead>\n",
              "    <tr style=\"text-align: right;\">\n",
              "      <th></th>\n",
              "      <th>Model</th>\n",
              "      <th>Acuratețe (%)</th>\n",
              "      <th>Timp Antrenare (s)</th>\n",
              "      <th>Nr. Parametri (K)</th>\n",
              "    </tr>\n",
              "  </thead>\n",
              "  <tbody>\n",
              "    <tr>\n",
              "      <th>0</th>\n",
              "      <td>ANN</td>\n",
              "      <td>86.5</td>\n",
              "      <td>30</td>\n",
              "      <td>28</td>\n",
              "    </tr>\n",
              "    <tr>\n",
              "      <th>1</th>\n",
              "      <td>SNN (simple)</td>\n",
              "      <td>86.2</td>\n",
              "      <td>120</td>\n",
              "      <td>73</td>\n",
              "    </tr>\n",
              "    <tr>\n",
              "      <th>2</th>\n",
              "      <td>SNN (CNN)</td>\n",
              "      <td>88.5</td>\n",
              "      <td>180</td>\n",
              "      <td>140</td>\n",
              "    </tr>\n",
              "  </tbody>\n",
              "</table>\n",
              "</div>\n",
              "    <div class=\"colab-df-buttons\">\n",
              "\n",
              "  <div class=\"colab-df-container\">\n",
              "    <button class=\"colab-df-convert\" onclick=\"convertToInteractive('df-e8fc6aa2-3248-45ea-a923-2a0e761bd9cf')\"\n",
              "            title=\"Convert this dataframe to an interactive table.\"\n",
              "            style=\"display:none;\">\n",
              "\n",
              "  <svg xmlns=\"http://www.w3.org/2000/svg\" height=\"24px\" viewBox=\"0 -960 960 960\">\n",
              "    <path d=\"M120-120v-720h720v720H120Zm60-500h600v-160H180v160Zm220 220h160v-160H400v160Zm0 220h160v-160H400v160ZM180-400h160v-160H180v160Zm440 0h160v-160H620v160ZM180-180h160v-160H180v160Zm440 0h160v-160H620v160Z\"/>\n",
              "  </svg>\n",
              "    </button>\n",
              "\n",
              "  <style>\n",
              "    .colab-df-container {\n",
              "      display:flex;\n",
              "      gap: 12px;\n",
              "    }\n",
              "\n",
              "    .colab-df-convert {\n",
              "      background-color: #E8F0FE;\n",
              "      border: none;\n",
              "      border-radius: 50%;\n",
              "      cursor: pointer;\n",
              "      display: none;\n",
              "      fill: #1967D2;\n",
              "      height: 32px;\n",
              "      padding: 0 0 0 0;\n",
              "      width: 32px;\n",
              "    }\n",
              "\n",
              "    .colab-df-convert:hover {\n",
              "      background-color: #E2EBFA;\n",
              "      box-shadow: 0px 1px 2px rgba(60, 64, 67, 0.3), 0px 1px 3px 1px rgba(60, 64, 67, 0.15);\n",
              "      fill: #174EA6;\n",
              "    }\n",
              "\n",
              "    .colab-df-buttons div {\n",
              "      margin-bottom: 4px;\n",
              "    }\n",
              "\n",
              "    [theme=dark] .colab-df-convert {\n",
              "      background-color: #3B4455;\n",
              "      fill: #D2E3FC;\n",
              "    }\n",
              "\n",
              "    [theme=dark] .colab-df-convert:hover {\n",
              "      background-color: #434B5C;\n",
              "      box-shadow: 0px 1px 3px 1px rgba(0, 0, 0, 0.15);\n",
              "      filter: drop-shadow(0px 1px 2px rgba(0, 0, 0, 0.3));\n",
              "      fill: #FFFFFF;\n",
              "    }\n",
              "  </style>\n",
              "\n",
              "    <script>\n",
              "      const buttonEl =\n",
              "        document.querySelector('#df-e8fc6aa2-3248-45ea-a923-2a0e761bd9cf button.colab-df-convert');\n",
              "      buttonEl.style.display =\n",
              "        google.colab.kernel.accessAllowed ? 'block' : 'none';\n",
              "\n",
              "      async function convertToInteractive(key) {\n",
              "        const element = document.querySelector('#df-e8fc6aa2-3248-45ea-a923-2a0e761bd9cf');\n",
              "        const dataTable =\n",
              "          await google.colab.kernel.invokeFunction('convertToInteractive',\n",
              "                                                    [key], {});\n",
              "        if (!dataTable) return;\n",
              "\n",
              "        const docLinkHtml = 'Like what you see? Visit the ' +\n",
              "          '<a target=\"_blank\" href=https://colab.research.google.com/notebooks/data_table.ipynb>data table notebook</a>'\n",
              "          + ' to learn more about interactive tables.';\n",
              "        element.innerHTML = '';\n",
              "        dataTable['output_type'] = 'display_data';\n",
              "        await google.colab.output.renderOutput(dataTable, element);\n",
              "        const docLink = document.createElement('div');\n",
              "        docLink.innerHTML = docLinkHtml;\n",
              "        element.appendChild(docLink);\n",
              "      }\n",
              "    </script>\n",
              "  </div>\n",
              "\n",
              "\n",
              "    <div id=\"df-82843dac-7598-4a6f-945a-a1d114c788c4\">\n",
              "      <button class=\"colab-df-quickchart\" onclick=\"quickchart('df-82843dac-7598-4a6f-945a-a1d114c788c4')\"\n",
              "                title=\"Suggest charts\"\n",
              "                style=\"display:none;\">\n",
              "\n",
              "<svg xmlns=\"http://www.w3.org/2000/svg\" height=\"24px\"viewBox=\"0 0 24 24\"\n",
              "     width=\"24px\">\n",
              "    <g>\n",
              "        <path d=\"M19 3H5c-1.1 0-2 .9-2 2v14c0 1.1.9 2 2 2h14c1.1 0 2-.9 2-2V5c0-1.1-.9-2-2-2zM9 17H7v-7h2v7zm4 0h-2V7h2v10zm4 0h-2v-4h2v4z\"/>\n",
              "    </g>\n",
              "</svg>\n",
              "      </button>\n",
              "\n",
              "<style>\n",
              "  .colab-df-quickchart {\n",
              "      --bg-color: #E8F0FE;\n",
              "      --fill-color: #1967D2;\n",
              "      --hover-bg-color: #E2EBFA;\n",
              "      --hover-fill-color: #174EA6;\n",
              "      --disabled-fill-color: #AAA;\n",
              "      --disabled-bg-color: #DDD;\n",
              "  }\n",
              "\n",
              "  [theme=dark] .colab-df-quickchart {\n",
              "      --bg-color: #3B4455;\n",
              "      --fill-color: #D2E3FC;\n",
              "      --hover-bg-color: #434B5C;\n",
              "      --hover-fill-color: #FFFFFF;\n",
              "      --disabled-bg-color: #3B4455;\n",
              "      --disabled-fill-color: #666;\n",
              "  }\n",
              "\n",
              "  .colab-df-quickchart {\n",
              "    background-color: var(--bg-color);\n",
              "    border: none;\n",
              "    border-radius: 50%;\n",
              "    cursor: pointer;\n",
              "    display: none;\n",
              "    fill: var(--fill-color);\n",
              "    height: 32px;\n",
              "    padding: 0;\n",
              "    width: 32px;\n",
              "  }\n",
              "\n",
              "  .colab-df-quickchart:hover {\n",
              "    background-color: var(--hover-bg-color);\n",
              "    box-shadow: 0 1px 2px rgba(60, 64, 67, 0.3), 0 1px 3px 1px rgba(60, 64, 67, 0.15);\n",
              "    fill: var(--button-hover-fill-color);\n",
              "  }\n",
              "\n",
              "  .colab-df-quickchart-complete:disabled,\n",
              "  .colab-df-quickchart-complete:disabled:hover {\n",
              "    background-color: var(--disabled-bg-color);\n",
              "    fill: var(--disabled-fill-color);\n",
              "    box-shadow: none;\n",
              "  }\n",
              "\n",
              "  .colab-df-spinner {\n",
              "    border: 2px solid var(--fill-color);\n",
              "    border-color: transparent;\n",
              "    border-bottom-color: var(--fill-color);\n",
              "    animation:\n",
              "      spin 1s steps(1) infinite;\n",
              "  }\n",
              "\n",
              "  @keyframes spin {\n",
              "    0% {\n",
              "      border-color: transparent;\n",
              "      border-bottom-color: var(--fill-color);\n",
              "      border-left-color: var(--fill-color);\n",
              "    }\n",
              "    20% {\n",
              "      border-color: transparent;\n",
              "      border-left-color: var(--fill-color);\n",
              "      border-top-color: var(--fill-color);\n",
              "    }\n",
              "    30% {\n",
              "      border-color: transparent;\n",
              "      border-left-color: var(--fill-color);\n",
              "      border-top-color: var(--fill-color);\n",
              "      border-right-color: var(--fill-color);\n",
              "    }\n",
              "    40% {\n",
              "      border-color: transparent;\n",
              "      border-right-color: var(--fill-color);\n",
              "      border-top-color: var(--fill-color);\n",
              "    }\n",
              "    60% {\n",
              "      border-color: transparent;\n",
              "      border-right-color: var(--fill-color);\n",
              "    }\n",
              "    80% {\n",
              "      border-color: transparent;\n",
              "      border-right-color: var(--fill-color);\n",
              "      border-bottom-color: var(--fill-color);\n",
              "    }\n",
              "    90% {\n",
              "      border-color: transparent;\n",
              "      border-bottom-color: var(--fill-color);\n",
              "    }\n",
              "  }\n",
              "</style>\n",
              "\n",
              "      <script>\n",
              "        async function quickchart(key) {\n",
              "          const quickchartButtonEl =\n",
              "            document.querySelector('#' + key + ' button');\n",
              "          quickchartButtonEl.disabled = true;  // To prevent multiple clicks.\n",
              "          quickchartButtonEl.classList.add('colab-df-spinner');\n",
              "          try {\n",
              "            const charts = await google.colab.kernel.invokeFunction(\n",
              "                'suggestCharts', [key], {});\n",
              "          } catch (error) {\n",
              "            console.error('Error during call to suggestCharts:', error);\n",
              "          }\n",
              "          quickchartButtonEl.classList.remove('colab-df-spinner');\n",
              "          quickchartButtonEl.classList.add('colab-df-quickchart-complete');\n",
              "        }\n",
              "        (() => {\n",
              "          let quickchartButtonEl =\n",
              "            document.querySelector('#df-82843dac-7598-4a6f-945a-a1d114c788c4 button');\n",
              "          quickchartButtonEl.style.display =\n",
              "            google.colab.kernel.accessAllowed ? 'block' : 'none';\n",
              "        })();\n",
              "      </script>\n",
              "    </div>\n",
              "\n",
              "  <div id=\"id_ea8154fb-6903-44a0-9038-cfd4bded6a34\">\n",
              "    <style>\n",
              "      .colab-df-generate {\n",
              "        background-color: #E8F0FE;\n",
              "        border: none;\n",
              "        border-radius: 50%;\n",
              "        cursor: pointer;\n",
              "        display: none;\n",
              "        fill: #1967D2;\n",
              "        height: 32px;\n",
              "        padding: 0 0 0 0;\n",
              "        width: 32px;\n",
              "      }\n",
              "\n",
              "      .colab-df-generate:hover {\n",
              "        background-color: #E2EBFA;\n",
              "        box-shadow: 0px 1px 2px rgba(60, 64, 67, 0.3), 0px 1px 3px 1px rgba(60, 64, 67, 0.15);\n",
              "        fill: #174EA6;\n",
              "      }\n",
              "\n",
              "      [theme=dark] .colab-df-generate {\n",
              "        background-color: #3B4455;\n",
              "        fill: #D2E3FC;\n",
              "      }\n",
              "\n",
              "      [theme=dark] .colab-df-generate:hover {\n",
              "        background-color: #434B5C;\n",
              "        box-shadow: 0px 1px 3px 1px rgba(0, 0, 0, 0.15);\n",
              "        filter: drop-shadow(0px 1px 2px rgba(0, 0, 0, 0.3));\n",
              "        fill: #FFFFFF;\n",
              "      }\n",
              "    </style>\n",
              "    <button class=\"colab-df-generate\" onclick=\"generateWithVariable('df')\"\n",
              "            title=\"Generate code using this dataframe.\"\n",
              "            style=\"display:none;\">\n",
              "\n",
              "  <svg xmlns=\"http://www.w3.org/2000/svg\" height=\"24px\"viewBox=\"0 0 24 24\"\n",
              "       width=\"24px\">\n",
              "    <path d=\"M7,19H8.4L18.45,9,17,7.55,7,17.6ZM5,21V16.75L18.45,3.32a2,2,0,0,1,2.83,0l1.4,1.43a1.91,1.91,0,0,1,.58,1.4,1.91,1.91,0,0,1-.58,1.4L9.25,21ZM18.45,9,17,7.55Zm-12,3A5.31,5.31,0,0,0,4.9,8.1,5.31,5.31,0,0,0,1,6.5,5.31,5.31,0,0,0,4.9,4.9,5.31,5.31,0,0,0,6.5,1,5.31,5.31,0,0,0,8.1,4.9,5.31,5.31,0,0,0,12,6.5,5.46,5.46,0,0,0,6.5,12Z\"/>\n",
              "  </svg>\n",
              "    </button>\n",
              "    <script>\n",
              "      (() => {\n",
              "      const buttonEl =\n",
              "        document.querySelector('#id_ea8154fb-6903-44a0-9038-cfd4bded6a34 button.colab-df-generate');\n",
              "      buttonEl.style.display =\n",
              "        google.colab.kernel.accessAllowed ? 'block' : 'none';\n",
              "\n",
              "      buttonEl.onclick = () => {\n",
              "        google.colab.notebook.generateWithVariable('df');\n",
              "      }\n",
              "      })();\n",
              "    </script>\n",
              "  </div>\n",
              "\n",
              "    </div>\n",
              "  </div>\n"
            ],
            "application/vnd.google.colaboratory.intrinsic+json": {
              "type": "dataframe",
              "variable_name": "df",
              "summary": "{\n  \"name\": \"df\",\n  \"rows\": 3,\n  \"fields\": [\n    {\n      \"column\": \"Model\",\n      \"properties\": {\n        \"dtype\": \"string\",\n        \"num_unique_values\": 3,\n        \"samples\": [\n          \"ANN\",\n          \"SNN (simple)\",\n          \"SNN (CNN)\"\n        ],\n        \"semantic_type\": \"\",\n        \"description\": \"\"\n      }\n    },\n    {\n      \"column\": \"Acurate\\u021be (%)\",\n      \"properties\": {\n        \"dtype\": \"number\",\n        \"std\": 1.2503332889007357,\n        \"min\": 86.2,\n        \"max\": 88.5,\n        \"num_unique_values\": 3,\n        \"samples\": [\n          86.5,\n          86.2,\n          88.5\n        ],\n        \"semantic_type\": \"\",\n        \"description\": \"\"\n      }\n    },\n    {\n      \"column\": \"Timp Antrenare (s)\",\n      \"properties\": {\n        \"dtype\": \"number\",\n        \"std\": 75,\n        \"min\": 30,\n        \"max\": 180,\n        \"num_unique_values\": 3,\n        \"samples\": [\n          30,\n          120,\n          180\n        ],\n        \"semantic_type\": \"\",\n        \"description\": \"\"\n      }\n    },\n    {\n      \"column\": \"Nr. Parametri (K)\",\n      \"properties\": {\n        \"dtype\": \"number\",\n        \"std\": 56,\n        \"min\": 28,\n        \"max\": 140,\n        \"num_unique_values\": 3,\n        \"samples\": [\n          28,\n          73,\n          140\n        ],\n        \"semantic_type\": \"\",\n        \"description\": \"\"\n      }\n    }\n  ]\n}"
            }
          },
          "metadata": {}
        },
        {
          "output_type": "display_data",
          "data": {
            "text/plain": [
              "<Figure size 1000x500 with 1 Axes>"
            ],
            "image/png": "[encoded data removed]"
          },
          "metadata": {}
        },
        {
          "output_type": "display_data",
          "data": {
            "text/plain": [
              "<Figure size 1000x500 with 1 Axes>"
            ],
            "image/png": "[encoded data removed]"
          },
          "metadata": {}
        }
      ]
    }
  ]
}